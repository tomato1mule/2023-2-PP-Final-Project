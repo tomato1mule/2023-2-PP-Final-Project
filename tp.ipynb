{
 "cells": [
  {
   "cell_type": "code",
   "execution_count": null,
   "metadata": {},
   "outputs": [],
   "source": [
    "import random\n",
    "from multiprocessing import Process\n",
    "import time\n",
    "\n",
    "\n",
    "clebsch_gordon_conj = {} # complex conjugate of clebsch gordon coefficient.\n",
    "for J in range(5):\n",
    "    for j1 in range(5):\n",
    "        for j2 in range(5):\n",
    "            clebsch_gordon_conj[(J,j1,j2)] = [[[random.random() for _ in range(2*j2+1)] for _ in range(2*j1+1)] for _ in range(2*J+1)]\n",
    "\n",
    "\n",
    "def tp_pathway(x1, x2, j1, j2, J, weight):\n",
    "    result = [0 for _ in range(2*J+1)]\n",
    "    Cstar = clebsch_gordon_conj[(J,j1,j2)] # (2*J+1, 2*j1+1, j*j2+1) array\n",
    "    \n",
    "    for M in range(2*J+1):\n",
    "        for m1 in range(2*j1 + 1):\n",
    "            for m2 in range(2*j2 + 1):\n",
    "                result[M] += Cstar[M][m1][m2] * x1[m1] * x2[m2]\n",
    "        \n",
    "    return [x*weight for x in result] # multiply weight to the tp pathway\n",
    "\n",
    "def parse_pathways(irreps_1, irreps_2, irreps_out):\n",
    "    pathways = [] # list of pathway tuple (j1,j2,J,slice1,slice2,slice_out)\n",
    "    \n",
    "    cumul_idx_1 = 0\n",
    "    for (mul_1, j1) in irreps_1:\n",
    "        for _ in range(mul_1):\n",
    "            cumul_idx_2 = 0\n",
    "            for (mul_2, j2) in irreps_2:\n",
    "                for _ in range(mul_2):\n",
    "                    cumul_idx_out = 0\n",
    "                    for (mul_out, J) in irreps_out:\n",
    "                        for _ in range(mul_out):\n",
    "                            if J <= j1+j2 and J >= abs(j1-j2):\n",
    "                                pathways.append(\n",
    "                                    (\n",
    "                                        j1, \n",
    "                                        j2, \n",
    "                                        J, \n",
    "                                        slice(cumul_idx_1, cumul_idx_1 + (2*j1+1)),\n",
    "                                        slice(cumul_idx_2, cumul_idx_2 + (2*j2+1)),\n",
    "                                        slice(cumul_idx_out, cumul_idx_out + (2*J+1)),\n",
    "                                    )\n",
    "                                )\n",
    "                            else:\n",
    "                                pass\n",
    "                            cumul_idx_out += (2*J+1)\n",
    "                    cumul_idx_2 += (2*j2+1)\n",
    "            cumul_idx_1 += (2*j1+1)\n",
    "    return pathways\n",
    "\n",
    "def count_ndim(irreps):\n",
    "    ndim = 0\n",
    "    for (mul, j) in irreps:\n",
    "        ndim += mul * (2*j+1)\n",
    "    return ndim\n",
    "        \n",
    "def fully_connected_tp(x1, x2, pathways, pathway_weights):\n",
    "    assert len(pathways) == len(pathway_weights)\n",
    "    \n",
    "    pathway_outputs = []\n",
    "    for pathway, weight in zip(pathways, pathway_weights):\n",
    "        j1,j2,J,slice_1,slice_2,slice_out = pathway\n",
    "        pathway_outputs.append(\n",
    "            tp_pathway(x1[slice_1],x2[slice_2],j1=j1,j2=j2,J=J,weight=weight)\n",
    "        )\n",
    "        \n",
    "    return pathway_outputs\n",
    "\n",
    "def collate_tp_output(pathway_outputs, pathways, irreps_out):\n",
    "    x_out = [0 for _ in range(count_ndim(irreps_out))]\n",
    "    for output, pathway in zip(pathway_outputs,pathways):\n",
    "        j1,j2,J,slice_1,slice_2,slice_out = pathway\n",
    "        # assert len(output) == slice_out.stop - slice_out.start\n",
    "        for val,i in zip(output, range(slice_out.start, slice_out.stop)):\n",
    "            # print(i,val)\n",
    "            x_out[i] += val\n",
    "    return x_out"
   ]
  },
  {
   "cell_type": "markdown",
   "metadata": {},
   "source": [
    "# Prepare inputs"
   ]
  },
  {
   "cell_type": "code",
   "execution_count": null,
   "metadata": {},
   "outputs": [],
   "source": [
    "# irreps_1 = [(2,0), (1,1)] # (mul, j)\n",
    "# irreps_2 = [(3,0), (4,1)] # (mul, j)\n",
    "# irreps_out = [(2,0), (3,1)] # (mul, j)\n",
    "\n",
    "# irreps_1 = [(30,0), (40,1), (50,2)] # (mul, j)\n",
    "# irreps_2 = [(60,0), (70,1), (80,2)] # (mul, j)\n",
    "# irreps_out = [(50,0), (40,1), (30,2), (20,3)] # (mul, j)\n",
    "\n",
    "irreps_1 = [(50,2), (30,3), (10,4)] # (mul, j)\n",
    "irreps_2 = [(50,2), (30,3), (10,4)] # (mul, j)\n",
    "irreps_out = [(50,2), (30,3), (10,4)] # (mul, j)\n",
    "\n",
    "\n",
    "x1 = [random.random() for _ in range(count_ndim(irreps_1))]\n",
    "x2 = [random.random() for _ in range(count_ndim(irreps_2))]\n",
    "\n",
    "pathways = parse_pathways(irreps_1, irreps_2, irreps_out)\n",
    "pathway_weights = [random.random() for _ in range(len(pathways))]"
   ]
  },
  {
   "cell_type": "markdown",
   "metadata": {},
   "source": [
    "# Compute Tensor Product"
   ]
  },
  {
   "cell_type": "code",
   "execution_count": null,
   "metadata": {},
   "outputs": [],
   "source": [
    "time_init = time.time()\n",
    "pathway_outputs = fully_connected_tp(x1,x2,pathways,pathway_weights)\n",
    "time_end = time.time()\n",
    "x_out = collate_tp_output(pathway_outputs,pathways,irreps_out)\n",
    "print(f\"Time elapsed: {time_end - time_init}\")"
   ]
  },
  {
   "cell_type": "code",
   "execution_count": null,
   "metadata": {},
   "outputs": [],
   "source": []
  },
  {
   "cell_type": "code",
   "execution_count": null,
   "metadata": {},
   "outputs": [],
   "source": []
  }
 ],
 "metadata": {
  "kernelspec": {
   "display_name": "base",
   "language": "python",
   "name": "python3"
  },
  "language_info": {
   "codemirror_mode": {
    "name": "ipython",
    "version": 3
   },
   "file_extension": ".py",
   "mimetype": "text/x-python",
   "name": "python",
   "nbconvert_exporter": "python",
   "pygments_lexer": "ipython3",
   "version": "3.10.12"
  }
 },
 "nbformat": 4,
 "nbformat_minor": 2
}
